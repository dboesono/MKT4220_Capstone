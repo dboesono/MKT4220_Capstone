{
 "cells": [
  {
   "cell_type": "code",
   "execution_count": 32,
   "id": "f3caf450-75b6-4498-936d-b83c0204d22e",
   "metadata": {},
   "outputs": [],
   "source": [
    "import numpy as np\n",
    "import pandas as pd\n",
    "import matplotlib.pyplot as plt\n",
    "from sklearn.model_selection import train_test_split, RepeatedKFold, cross_val_score\n",
    "from sklearn.utils._testing import ignore_warnings\n",
    "from sklearn.exceptions import ConvergenceWarning\n",
    "from sklearn.neighbors import KNeighborsClassifier, NearestCentroid\n",
    "from sklearn.svm import LinearSVC, SVC\n",
    "from sklearn.ensemble import GradientBoostingClassifier, RandomForestClassifier\n",
    "from sklearn.tree import DecisionTreeClassifier\n",
    "from sklearn.linear_model import LogisticRegression\n",
    "from sklearn.naive_bayes import GaussianNB\n",
    "from xgboost import XGBClassifier\n",
    "from keras.models import Sequential\n",
    "from keras.layers import Dense\n",
    "from tensorflow.keras.utils import to_categorical\n",
    "from tensorflow.keras.wrappers.scikit_learn import KerasClassifier\n",
    "\n",
    "import logging\n",
    "logging.getLogger('tensorflow').disabled = True\n",
    "\n",
    "import warnings\n",
    "warnings.filterwarnings(\"ignore\", category=DeprecationWarning)"
   ]
  },
  {
   "cell_type": "code",
   "execution_count": 33,
   "id": "76716f0d-8798-4a7d-9bfc-e605b66bc020",
   "metadata": {},
   "outputs": [],
   "source": [
    "#X is the preprocessed data used to generate clusters\n",
    "#y is the generated cluster labels\n",
    "X = pd.read_csv('X.csv')\n",
    "y = pd.read_csv('labels.csv')"
   ]
  },
  {
   "cell_type": "code",
   "execution_count": 34,
   "id": "007b6dd9-529a-48a9-8694-9d5a22474664",
   "metadata": {},
   "outputs": [],
   "source": [
    "def get_NN_model(n_inputs, n_outputs):\n",
    "    model = Sequential()\n",
    "    model.add(Dense(15, input_dim=n_inputs, activation='relu'))\n",
    "    model.add(Dense(15, activation='relu'))\n",
    "    model.add(Dense(n_outputs, activation='softmax'))\n",
    "    model.compile(loss='categorical_crossentropy', optimizer='adam', metrics=['accuracy'])\n",
    "    return model\n",
    "\n",
    "@ignore_warnings(category=ConvergenceWarning)\n",
    "def CrossValidation_Evaluation(X, y, models):\n",
    "    cv = RepeatedKFold(n_splits=5)\n",
    "    X_train, X_test, y_train, y_test = train_test_split(X, y, test_size=0.2, random_state=42)\n",
    "    results_dict = {}\n",
    "    for model_name, model_instance in models.items():\n",
    "        results = []        \n",
    "        if model_name == 'NN':\n",
    "            for train_ix, test_ix in cv.split(X_train):\n",
    "                X_train_fold, X_val_fold = X_train.iloc[train_ix], X_train.iloc[test_ix]\n",
    "                y_train_fold, y_val_fold = np.array(pd.Series(y_train).iloc[train_ix]), np.array(pd.Series(y_train).iloc[test_ix])\n",
    "\n",
    "                num_classes = len(np.unique(y_train_fold))\n",
    "                y_train_encoded = to_categorical(y_train_fold, num_classes=num_classes)\n",
    "                y_val_encoded = to_categorical(y_val_fold, num_classes=num_classes)\n",
    "\n",
    "                n_inputs = X_train_fold.shape[1]\n",
    "                n_outputs = num_classes\n",
    "                model = get_NN_model(n_inputs, n_outputs)\n",
    "\n",
    "                history = model.fit(X_train_fold, y_train_encoded, verbose=0, epochs=30, validation_data=(X_val_fold, y_val_encoded))\n",
    "\n",
    "                test_loss, test_accuracy = model.evaluate(X_test, to_categorical(y_test, num_classes=num_classes), verbose=0)\n",
    "                results.append(test_accuracy)\n",
    "            results_dict[model_name] = round(np.mean(results) * 100, 2)\n",
    "            print(f\"{model_name} test accuracy: {results_dict[model_name]}%\")            \n",
    "        else:\n",
    "            for train_ix, test_ix in cv.split(X_train):\n",
    "                X_train_fold, X_val_fold = X_train.iloc[train_ix], X_train.iloc[test_ix]\n",
    "                y_train_fold, y_val_fold = np.array(pd.Series(y_train).iloc[train_ix]), np.array(pd.Series(y_train).iloc[test_ix])\n",
    "\n",
    "                model_instance.fit(X_train_fold, y_train_fold)\n",
    "\n",
    "                # Evaluate on the test set\n",
    "                y_pred = model_instance.predict(X_test)\n",
    "\n",
    "                accuracy = model_instance.score(X_test, y_test)\n",
    "                results.append(accuracy)\n",
    "\n",
    "            results_dict[model_name] = round(np.mean(results) * 100, 2)\n",
    "            print(f\"{model_name} test accuracy: {results_dict[model_name]}%\")   \n",
    "    return results_dict"
   ]
  },
  {
   "cell_type": "code",
   "execution_count": 35,
   "id": "b484fb0d-ea17-4f6b-b144-d6859f56ceb6",
   "metadata": {},
   "outputs": [
    {
     "name": "stdout",
     "output_type": "stream",
     "text": [
      "NN test accuracy: 98.74%\n",
      "KNN test accuracy: 98.92%\n",
      "SVC test accuracy: 98.25%\n",
      "LR test accuracy: 98.03%\n",
      "NB test accuracy: 97.9%\n",
      "RFC test accuracy: 98.47%\n",
      "DTC test accuracy: 98.92%\n",
      "XGB test accuracy: 98.9%\n"
     ]
    }
   ],
   "source": [
    "models = {\n",
    "    'NN': None,\n",
    "    'KNN': KNeighborsClassifier(),\n",
    "    'SVC': LinearSVC(),\n",
    "    'LR': LogisticRegression(),\n",
    "    'NB': GaussianNB(),\n",
    "    'RFC': RandomForestClassifier(),\n",
    "    'DTC': DecisionTreeClassifier(),\n",
    "    'XGB': XGBClassifier()\n",
    "}\n",
    "\n",
    "\n",
    "modelsDict = CrossValidation_Evaluation(X,y.values.ravel(),models)\n"
   ]
  },
  {
   "cell_type": "code",
   "execution_count": 36,
   "id": "963509cd-c3ae-42e8-81d2-529e74953d3a",
   "metadata": {},
   "outputs": [
    {
     "data": {
      "image/png": "[encoded data removed]",
      "text/plain": [
       "<Figure size 640x480 with 1 Axes>"
      ]
     },
     "metadata": {},
     "output_type": "display_data"
    }
   ],
   "source": [
    "score = list(modelsDict.values())\n",
    "bars = tuple(modelsDict.keys())\n",
    "x_pos = np.arange(len(bars))\n",
    "\n",
    "values = np.array(list(modelsDict.values()))\n",
    "values = ['Cyan' if (x < max(values)) else 'blue' for x in values]\n",
    "\n",
    "plt.bar(x_pos, score, color=values,edgecolor='blue')\n",
    "plt.xticks(x_pos, bars)\n",
    "plt.savefig('results.png')\n",
    "plt.show()"
   ]
  },
  {
   "cell_type": "code",
   "execution_count": null,
   "id": "16637ad3-46af-42ef-af17-ab6dceacc780",
   "metadata": {},
   "outputs": [],
   "source": []
  }
 ],
 "metadata": {
  "kernelspec": {
   "display_name": "Python 3 (ipykernel)",
   "language": "python",
   "name": "python3"
  },
  "language_info": {
   "codemirror_mode": {
    "name": "ipython",
    "version": 3
   },
   "file_extension": ".py",
   "mimetype": "text/x-python",
   "name": "python",
   "nbconvert_exporter": "python",
   "pygments_lexer": "ipython3",
   "version": "3.10.0"
  }
 },
 "nbformat": 4,
 "nbformat_minor": 5
}
